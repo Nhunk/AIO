{
 "cells": [
  {
   "cell_type": "code",
   "execution_count": 2,
   "metadata": {},
   "outputs": [
    {
     "data": {
      "text/plain": [
       "2.5937424601000023"
      ]
     },
     "execution_count": 2,
     "metadata": {},
     "output_type": "execute_result"
    }
   ],
   "source": [
    "\n",
    "def estimate_e(n):\n",
    "    return (1+1/n)**n\n",
    "kq=estimate_e(10)\n",
    "kq"
   ]
  },
  {
   "cell_type": "markdown",
   "metadata": {},
   "source": [
    "##### Bài 1: Viết hàm tính thể tích"
   ]
  },
  {
   "cell_type": "code",
   "execution_count": null,
   "metadata": {},
   "outputs": [
    {
     "data": {
      "text/plain": [
       "78.53981633974483"
      ]
     },
     "execution_count": 11,
     "metadata": {},
     "output_type": "execute_result"
    }
   ],
   "source": [
    "#\n",
    "import math\n",
    "def calc_cube_volume(s):\n",
    "    return math.pi*(s**2)\n",
    "a=calc_cube_volume(5)\n",
    "a\n",
    "#assert : kiểm tra kết quả đúng sẽ chạy còn sai thì sẽ báo lỗi"
   ]
  },
  {
   "cell_type": "markdown",
   "metadata": {},
   "source": [
    "##### Bài 2: Hàm dự đoán đánh giá classification model bằng f1.\n",
    "Yêu cầu: Kiểm tra đầu vào phải là kiểu dữ liệu int và lớn hơn 0. \n",
    "Nếu sai thì in báo rồi thoát chương trình.\n",
    "  "
   ]
  },
  {
   "cell_type": "code",
   "execution_count": null,
   "metadata": {},
   "outputs": [
    {
     "data": {
      "text/plain": [
       "0.7199999999999999"
      ]
     },
     "execution_count": 27,
     "metadata": {},
     "output_type": "execute_result"
    }
   ],
   "source": [
    "  \n",
    "def cal_f1_score(tp,fp,fn):\n",
    "    if type(tp)!=int:\n",
    "        print('tp must in int!')\n",
    "        return\n",
    "    if type(fp)!=int:\n",
    "        print('fp must in int!')\n",
    "        return\n",
    "    if type(fn)!=int:\n",
    "        print('fn must in int!')\n",
    "        return\n",
    "    if (tp<=0) or (fp<=0) or (fn <=0):\n",
    "        print ('tp, fp, fn must be greater than zero!')\n",
    "        return\n",
    "    \n",
    "    precision = tp/(tp+fp)\n",
    "    recal = tp/(tp+fn)\n",
    "    f1=2*(precision*recal)/(precision+recal)\n",
    "    return f1\n",
    "cal_f1_score(9,4,3)"
   ]
  },
  {
   "cell_type": "markdown",
   "metadata": {},
   "source": [
    "##### Bài 3: Viết function mô phỏng theo 3 activation function:"
   ]
  },
  {
   "cell_type": "code",
   "execution_count": 45,
   "metadata": {},
   "outputs": [],
   "source": [
    "import math\n",
    "def cal_activation_func(x, act_name):\n",
    "    def cal_binary(x):\n",
    "        return float(x>=0)\n",
    "    def cal_sigmoid(x):\n",
    "        return 1./(1+math.e**(-x))\n",
    "    def cal_relu(x):\n",
    "        alpha = 0.01\n",
    "        result = None\n",
    "        if x <0:\n",
    "            result = alpha *(math.e**x - 1)\n",
    "        else:\n",
    "            return result\n",
    "    result = None\n",
    "    if act_name == 'binary':\n",
    "        result = cal_binary(x)\n",
    "    elif act_name == 'sigmoid':\n",
    "        result = cal_sigmoid(x)\n",
    "    elif act_name == 'relu':\n",
    "        result = cal_relu(x)\n",
    "    else:\n",
    "        result = None    \n",
    "    return result\n",
    "assert cal_activation_func(x=1,act_name='binary') == 1"
   ]
  },
  {
   "cell_type": "code",
   "execution_count": 46,
   "metadata": {},
   "outputs": [
    {
     "name": "stdout",
     "output_type": "stream",
     "text": [
      "0.0\n"
     ]
    }
   ],
   "source": [
    "print(cal_activation_func(x=-6,act_name='binary'))"
   ]
  },
  {
   "cell_type": "code",
   "execution_count": 47,
   "metadata": {},
   "outputs": [],
   "source": [
    "def do_ex3():\n",
    "    x = float(input('Input x: '))\n",
    "    act_name = input('Input activation function (binary, sigmoid, relu): ')\n",
    "    result = cal_activation_func(x, act_name)\n",
    "    if result is None:\n",
    "        print(f'{act_name} is not supported!')\n",
    "    else:\n",
    "        print(f'{act_name}: f({x}) = {result}')"
   ]
  },
  {
   "cell_type": "code",
   "execution_count": 48,
   "metadata": {},
   "outputs": [
    {
     "name": "stdout",
     "output_type": "stream",
     "text": [
      "binary: f(3.0) = 1.0\n"
     ]
    }
   ],
   "source": [
    "do_ex3()"
   ]
  },
  {
   "cell_type": "markdown",
   "metadata": {},
   "source": [
    "Bài 4: Viết function lựa chọn regression loss function để tính loss:"
   ]
  },
  {
   "cell_type": "code",
   "execution_count": 1,
   "metadata": {},
   "outputs": [
    {
     "data": {
      "text/plain": [
       "'a'"
      ]
     },
     "execution_count": 1,
     "metadata": {},
     "output_type": "execute_result"
    }
   ],
   "source": [
    "a ='abc'\n",
    "a[0]"
   ]
  },
  {
   "cell_type": "code",
   "execution_count": 2,
   "metadata": {},
   "outputs": [
    {
     "data": {
      "text/plain": [
       "2"
      ]
     },
     "execution_count": 2,
     "metadata": {},
     "output_type": "execute_result"
    }
   ],
   "source": [
    "b = a.find('c')\n",
    "b"
   ]
  },
  {
   "cell_type": "code",
   "execution_count": null,
   "metadata": {},
   "outputs": [],
   "source": []
  }
 ],
 "metadata": {
  "kernelspec": {
   "display_name": "Python 3",
   "language": "python",
   "name": "python3"
  },
  "language_info": {
   "codemirror_mode": {
    "name": "ipython",
    "version": 3
   },
   "file_extension": ".py",
   "mimetype": "text/x-python",
   "name": "python",
   "nbconvert_exporter": "python",
   "pygments_lexer": "ipython3",
   "version": "3.12.3"
  }
 },
 "nbformat": 4,
 "nbformat_minor": 2
}
