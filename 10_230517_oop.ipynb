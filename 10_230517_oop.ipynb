{
 "cells": [
  {
   "cell_type": "markdown",
   "metadata": {},
   "source": [
    "<b>Lập trình thủ tục/cấu trúc (Thông thường):</b>\n",
    "nhận yêu cầu -> lập trình  \n",
    "   +Khó khi phát triển những bài toán lớn, phải modify lại;  \n",
    "   +Các hàm thường không có các mối quan hệ với nhau\n",
    "\n",
    "\n",
    "<b>Lập trình hướng đối tượng - OOP:</b>  \n",
    "    +Khi có yêu cầu mới, có thể reuse lại các hàm đã có;  \n",
    "    +Các object(đối tượng) có thể trao đổi dữ liệu với nhau\n"
   ]
  },
  {
   "cell_type": "markdown",
   "metadata": {},
   "source": [
    "##### <b>1. Object-Oriented Programming (OOP)</b>  \n",
    "1.1. <u>Đóng gói (reuse) - Encapsulation:</u>  \n",
    "    Data Security: Quy định ai có thể truy xuất data  \n",
    "\n",
    "\n",
    "1.2. <u>Kế thừa - Inheritance:</u>  \n",
    "    Code Reusability: Tái sử dụng code, tận dụng và phát triển thêm, dễ dàng thích nghi với sự thay đổi\n",
    "\n",
    "\n",
    "1.3. <u>Trừu tượng - Abstraction:</u>  \n",
    "    Hides Complexity: \n",
    "\n",
    "\n",
    "1.4. <u>Đa hình - Polymorphism:</u>  \n",
    "    Code Resuability:"
   ]
  },
  {
   "cell_type": "markdown",
   "metadata": {},
   "source": [
    "##### <b>2. Class và object trong OOP</b>\n",
    "<b>Class</b> là khuôn mẫu của object. Ví dụ bản thiết kế của ngôi nhà, khuôn mãu chung để xây dựng nhiều ngôi nhà,...Thường được biểu diễn bằng class diagram(uml)  \n",
    "-> Tạo class đồng nghĩa tạo một kiểu dữ liệu mới  \n",
    "![Cat Class Diagram](imag/uml.png \"Cat Class Diagram\")  \n",
    "Access modifiers: -private ; +public\n",
    "\n",
    "\n",
    "<b>Object</b> là thể hiện hay thông tin cụ thể của class"
   ]
  },
  {
   "cell_type": "code",
   "execution_count": 9,
   "metadata": {},
   "outputs": [
    {
     "name": "stdout",
     "output_type": "stream",
     "text": [
      "Weight:  5\n",
      "Age:  2\n",
      "Nini\n"
     ]
    }
   ],
   "source": [
    "#Tạo class\n",
    "class Cat:\n",
    "\n",
    "    # Hàm khởi tạo: nhận vào những tham số ban đầu; \n",
    "    # self là keyword class (giống this trong java); \n",
    "    # init luôn được gọi đầu tiên khi khởi tạo class\n",
    "    def __init__(self, name, weight, age):\n",
    "        self.__name = name #private-phạm quy truy xuất chỉ trong class, đảm bảo sự bảo mật\n",
    "        self.weight = weight\n",
    "        self.age = age\n",
    "    \n",
    "    # Phải cung cấp phương thức để lấy name ra, \n",
    "    # không cho phép tương tác trực tiếp với thuộc tính private\n",
    "    def get_name(self):\n",
    "        return self.__name\n",
    "    \n",
    "    # Hàm in thông tin\n",
    "    def print_info(self):\n",
    "        print(\"Weight: \", self.weight)\n",
    "        print(\"Age: \", self.age)\n",
    "\n",
    "Nini = Cat(\"Nini\",5,2)\n",
    "Nini.print_info()\n",
    "print(Nini.get_name())\n",
    "#object() là shorthand của .__call__()"
   ]
  },
  {
   "cell_type": "markdown",
   "metadata": {},
   "source": [
    "<b>Quy tắc đặt tên:</b>  \n",
    "    +Class: Viết hoa chữ cái đầu tiên mỗi từ: AnhNhung  \n",
    "    +Method: Viết thường chữ đầu và viết hoa đầu mỗi từ tiếp theo: anhNhung"
   ]
  },
  {
   "cell_type": "markdown",
   "metadata": {},
   "source": [
    "<b>Mối quan hệ giữa các Object - Object Relationships</b>  \n",
    "  \n",
    "  ![O relationship](imag/object_relationship.png)  \n",
    "  +Association: Hai class cần tương tác với nhau ( 1-m, m-m)  \n",
    "  +Aggregation:A chứa B, B là một phần của A-> xóa B = xóa A   \n",
    "  +Composition:Xóa A thì B vẫn có thể tồn tại độc lập"
   ]
  },
  {
   "cell_type": "code",
   "execution_count": 5,
   "metadata": {},
   "outputs": [
    {
     "name": "stdout",
     "output_type": "stream",
     "text": [
      "1210\n"
     ]
    }
   ],
   "source": [
    "#Aggregation ->Khi nhiều người cùng phát triển có xóa sẽ không ảnh hưởng\n",
    "#Cơ chế deligation: chuyển giao nhiệm vụ cho một class khác giải quyết\n",
    "#Xóa class này thì Salary vẫn tồn tại\n",
    "class Employee:\n",
    "    def __init__(self, name, age, salary):\n",
    "        self.name = name\n",
    "        self.age = age\n",
    "        self.salary=salary\n",
    "    def total(self):\n",
    "        return self.salary.computeAnnualSalary()#Cho phép gọi các phương thức để giải quyết vấn đề\n",
    "    \n",
    "class Salary:\n",
    "    def __init__(self, pay, bonus):\n",
    "        self.pay = pay\n",
    "        self.bonus = bonus\n",
    "    def computeAnnualSalary(self):\n",
    "        return (self.pay*12) + self.bonus\n",
    "salary = Salary(100, 10)\n",
    "emp = Employee(\"Nini\", 25, salary)\n",
    "print(emp.total())"
   ]
  },
  {
   "cell_type": "code",
   "execution_count": 7,
   "metadata": {
    "vscode": {
     "languageId": "ruby"
    }
   },
   "outputs": [
    {
     "name": "stdout",
     "output_type": "stream",
     "text": [
      "121500\n"
     ]
    }
   ],
   "source": [
    "#Composition ->Dùng khi tạo class A có sử dụng class B mà nếu xóa đi class A thì class B không còn cần thiết\n",
    "#Giống như xóa folder chứa file thì file cũng sẽ bị xóa\n",
    "#Giúp tinh gọn bộ nhớ khi xóa 1 class không cần thiết kéo theo các class khác tránh dư thừa\n",
    "\n",
    "class Employee:\n",
    "    def __init__(self, name, age, pay, bonus):\n",
    "        self.name = name\n",
    "        self.age = age\n",
    "        self.salary= Salary(pay, bonus) #Khai báo trục tiếp Salary trong Employee\n",
    "    def total(self):\n",
    "        return self.salary.computeAnnualSalary()\n",
    "class Salary:\n",
    "    def __init__(self, pay, bonus):\n",
    "        self.pay = pay\n",
    "        self.bonus = bonus\n",
    "    def computeAnnualSalary(self):\n",
    "        return (self.pay * 12) + self.bonus\n",
    "e1 = Employee(\"John\", 25, 10000, 1500)\n",
    "print(e1.total())\n"
   ]
  },
  {
   "cell_type": "markdown",
   "metadata": {},
   "source": [
    "Function: nằm ngoài class  \n",
    "Method(thuộc tính): nằm trong class"
   ]
  }
 ],
 "metadata": {
  "kernelspec": {
   "display_name": "Python 3",
   "language": "python",
   "name": "python3"
  },
  "language_info": {
   "codemirror_mode": {
    "name": "ipython",
    "version": 3
   },
   "file_extension": ".py",
   "mimetype": "text/x-python",
   "name": "python",
   "nbconvert_exporter": "python",
   "pygments_lexer": "ipython3",
   "version": "3.12.3"
  }
 },
 "nbformat": 4,
 "nbformat_minor": 2
}
