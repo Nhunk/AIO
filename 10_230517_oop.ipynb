{
 "cells": [
  {
   "cell_type": "markdown",
   "metadata": {},
   "source": [
    "<b>Lập trình thủ tục/cấu trúc (Thông thường):</b>\n",
    "nhận yêu cầu -> lập trình  \n",
    "   +Khó khi phát triển những bài toán lớn, phải modify lại;  \n",
    "   +Các hàm thường không có các mối quan hệ với nhau\n",
    "\n",
    "\n",
    "<b>Lập trình hướng đối tượng - OOP:</b>  \n",
    "    +Khi có yêu cầu mới, có thể reuse lại các hàm đã có;  \n",
    "    +Các object(đối tượng) có thể trao đổi dữ liệu với nhau\n"
   ]
  },
  {
   "cell_type": "markdown",
   "metadata": {},
   "source": [
    "##### <b>1. Object-Oriented Programming (OOP)</b>  \n",
    "1.1. <u>Đóng gói (reuse) - Encapsulation:</u>  \n",
    "    Data Security: Quy định ai có thể truy xuất data  \n",
    "\n",
    "\n",
    "1.2. <u>Kế thừa - Inheritance:</u>  \n",
    "    Code Reusability: Tái sử dụng code, tận dụng và phát triển thêm, dễ dàng thích nghi với sự thay đổi\n",
    "\n",
    "\n",
    "1.3. <u>Trừu tượng - Abstraction:</u>  \n",
    "    Hides Complexity: \n",
    "\n",
    "\n",
    "1.4. <u>Đa hình - Polymorphism:</u>  \n",
    "    Code Resuability:"
   ]
  },
  {
   "cell_type": "markdown",
   "metadata": {},
   "source": [
    "##### <b>2. Class và object trong OOP</b>\n",
    "<b>Class</b> là khuôn mẫu của object. Ví dụ bản thiết kế của ngôi nhà, khuôn mãu chung để xây dựng nhiều ngôi nhà,...Thường được biểu diễn bằng class diagram   \n",
    "![Cat Class Diagram](imag/uml.png \"Cat Class Diagram\")  \n",
    "Access modifiers: -private ; +public\n",
    "\n",
    "\n",
    "<b>Object</b> là thể hiện hay thông tin cụ thể của class"
   ]
  },
  {
   "cell_type": "code",
   "execution_count": 9,
   "metadata": {},
   "outputs": [
    {
     "name": "stdout",
     "output_type": "stream",
     "text": [
      "Weight:  5\n",
      "Age:  2\n",
      "Nini\n"
     ]
    }
   ],
   "source": [
    "#Tạo class\n",
    "class Cat:\n",
    "\n",
    "    # Hàm khởi tạo: nhận vào những tham số ban đầu; \n",
    "    # self là keyword class (giống this trong java); \n",
    "    # init luôn được gọi đầu tiên khi khởi tạo class\n",
    "    def __init__(self, name, weight, age):\n",
    "        self.__name = name #private-phạm quy truy xuất chỉ trong class, đảm bảo sự bảo mật\n",
    "        self.weight = weight\n",
    "        self.age = age\n",
    "    \n",
    "    # Phải cung cấp phương thức để lấy name ra, \n",
    "    # không cho phép tương tác trực tiếp với thuộc tính private\n",
    "    def get_name(self):\n",
    "        return self.__name\n",
    "    \n",
    "    # Hàm in thông tin\n",
    "    def print_info(self):\n",
    "        print(\"Weight: \", self.weight)\n",
    "        print(\"Age: \", self.age)\n",
    "\n",
    "Nini = Cat(\"Nini\",5,2)\n",
    "Nini.print_info()\n",
    "print(Nini.get_name())\n",
    "#object() là shorthand của .__call__()"
   ]
  },
  {
   "cell_type": "markdown",
   "metadata": {},
   "source": [
    "<b>Quy tắc đặt tên:</b>  \n",
    "    +Class: Viết hoa chữ cái đầu tiên mỗi từ: AnhNhung  \n",
    "    +Method: Viết thường chữ đầu và viết hoa đầu mỗi từ tiếp theo: anhNhung"
   ]
  },
  {
   "cell_type": "code",
   "execution_count": null,
   "metadata": {},
   "outputs": [],
   "source": []
  }
 ],
 "metadata": {
  "kernelspec": {
   "display_name": "Python 3",
   "language": "python",
   "name": "python3"
  },
  "language_info": {
   "codemirror_mode": {
    "name": "ipython",
    "version": 3
   },
   "file_extension": ".py",
   "mimetype": "text/x-python",
   "name": "python",
   "nbconvert_exporter": "python",
   "pygments_lexer": "ipython3",
   "version": "3.12.3"
  }
 },
 "nbformat": 4,
 "nbformat_minor": 2
}
