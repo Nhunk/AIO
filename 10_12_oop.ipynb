{
 "cells": [
  {
   "cell_type": "markdown",
   "metadata": {},
   "source": [
    "<b>Lập trình thủ tục/cấu trúc (Thông thường):</b>\n",
    "nhận yêu cầu -> lập trình  \n",
    "   +Khó khi phát triển những bài toán lớn, phải modify lại;  \n",
    "   +Các hàm thường không có các mối quan hệ với nhau\n",
    "\n",
    "\n",
    "<b>Lập trình hướng đối tượng - OOP:</b>  \n",
    "    +Khi có yêu cầu mới, có thể reuse lại các hàm đã có;  \n",
    "    +Các object(đối tượng) có thể trao đổi dữ liệu với nhau\n"
   ]
  },
  {
   "cell_type": "markdown",
   "metadata": {},
   "source": [
    "#### <b>1. Object-Oriented Programming (OOP)</b>  \n",
    "1.1. <u>Đóng gói (reuse) - Encapsulation:</u>  \n",
    "    Data Security: Quy định ai có thể truy xuất data  \n",
    "\n",
    "\n",
    "1.2. <u>Kế thừa - Inheritance:</u>  \n",
    "    Code Reusability: Tái sử dụng code, tận dụng và phát triển thêm, dễ dàng thích nghi với sự thay đổi\n",
    "\n",
    "\n",
    "1.3. <u>Trừu tượng - Abstraction:</u>  \n",
    "    Hides Complexity: \n",
    "\n",
    "\n",
    "1.4. <u>Đa hình - Polymorphism:</u>  \n",
    "    Code Resuability:"
   ]
  },
  {
   "cell_type": "markdown",
   "metadata": {},
   "source": [
    "#### <b>2. Class và object trong OOP</b>\n",
    "<i><b>Class</b> là khuôn mẫu của object. Ví dụ bản thiết kế của ngôi nhà, khuôn mãu chung để xây dựng nhiều ngôi nhà,...Thường được biểu diễn bằng class diagram(uml)</i>  \n",
    "-> Tạo class đồng nghĩa tạo một kiểu dữ liệu mới  \n",
    "![Cat Class Diagram](imag/uml.png \"Cat Class Diagram\")  \n",
    "Access modifiers:  \n",
    "    -private  \n",
    "    +public  \n",
    "    #protected ( gắn với kế thừa-inheritance)\n",
    "\n",
    "![access modifiers](imag/access_modifiers.png)\n",
    "\n",
    "\n",
    "<i><b>Object</b> là thể hiện hay thông tin cụ thể của class</i>"
   ]
  },
  {
   "cell_type": "code",
   "execution_count": 5,
   "metadata": {},
   "outputs": [
    {
     "name": "stdout",
     "output_type": "stream",
     "text": [
      "Weight:  5\n",
      "Age:  2\n",
      "Nini\n"
     ]
    }
   ],
   "source": [
    "#Tạo class\n",
    "class Cat:\n",
    "\n",
    "    # Hàm khởi tạo: nhận vào những tham số ban đầu; \n",
    "    # self là keyword class (giống this trong java); \n",
    "    # init luôn được gọi đầu tiên khi khởi tạo class\n",
    "    def __init__(self, name, weight, age):\n",
    "        self.__name = name #private-phạm quy truy xuất chỉ trong class, đảm bảo sự bảo mật\n",
    "        self.weight = weight\n",
    "        self.age = age\n",
    "    \n",
    "    # Phải cung cấp phương thức để lấy name ra, \n",
    "    # không cho phép tương tác trực tiếp với thuộc tính private\n",
    "    def get_name(self):\n",
    "        return self.__name\n",
    "    \n",
    "    # Hàm in thông tin\n",
    "    def print_info(self):\n",
    "        print(\"Weight: \", self.weight)\n",
    "        print(\"Age: \", self.age)\n",
    "\n",
    "Nini = Cat(\"Nini\",5,2)\n",
    "Nini.print_info()\n",
    "print(Nini.get_name())\n",
    "#object() là shorthand của .__call__()"
   ]
  },
  {
   "cell_type": "markdown",
   "metadata": {},
   "source": [
    "<b>Quy tắc đặt tên:</b>  \n",
    "    +Class: Viết hoa chữ cái đầu tiên mỗi từ: AnhNhung  \n",
    "    +Method: Viết thường chữ đầu và viết hoa đầu mỗi từ tiếp theo: anhNhung"
   ]
  },
  {
   "cell_type": "markdown",
   "metadata": {},
   "source": [
    "##### <b>2.1. Mối quan hệ giữa các Object - Object Relationships</b> \n",
    "\n",
    "<b>2.1.1. Aggregation và Composition</b>  \n",
    "\n",
    "\n",
    "![object relationship](imag/agg_com.png)\n",
    "    \n",
    "  +Association: Hai class cần tương tác với nhau ( 1-m, m-m)  \n",
    "  +Aggregation:A chứa B, B là một phần của A-> xóa B = xóa A   \n",
    "  +Composition:Xóa A thì B vẫn có thể tồn tại độc lập\n",
    "\n"
   ]
  },
  {
   "cell_type": "code",
   "execution_count": 6,
   "metadata": {},
   "outputs": [
    {
     "name": "stdout",
     "output_type": "stream",
     "text": [
      "1210\n"
     ]
    }
   ],
   "source": [
    "#Aggregation ->Khi nhiều người cùng phát triển có xóa sẽ không ảnh hưởng\n",
    "#Cơ chế deligation: chuyển giao nhiệm vụ cho một class khác giải quyết\n",
    "#Xóa class này thì Salary vẫn tồn tại\n",
    "class Employee:\n",
    "    def __init__(self, name, age, salary):\n",
    "        self.name = name\n",
    "        self.age = age\n",
    "        self.salary=salary\n",
    "    def total(self):\n",
    "        return self.salary.computeAnnualSalary()#Cho phép gọi các phương thức để giải quyết vấn đề\n",
    "    \n",
    "class Salary:\n",
    "    def __init__(self, pay, bonus):\n",
    "        self.pay = pay\n",
    "        self.bonus = bonus\n",
    "    def computeAnnualSalary(self):\n",
    "        return (self.pay*12) + self.bonus\n",
    "salary = Salary(100, 10)\n",
    "emp = Employee(\"Nini\", 25, salary)\n",
    "print(emp.total())"
   ]
  },
  {
   "cell_type": "code",
   "execution_count": 7,
   "metadata": {
    "vscode": {
     "languageId": "ruby"
    }
   },
   "outputs": [
    {
     "name": "stdout",
     "output_type": "stream",
     "text": [
      "121500\n"
     ]
    }
   ],
   "source": [
    "#Composition ->Dùng khi tạo class A có sử dụng class B mà nếu xóa đi class A thì class B không còn cần thiết\n",
    "#Giống như xóa folder chứa file thì file cũng sẽ bị xóa\n",
    "#Giúp tinh gọn bộ nhớ khi xóa 1 class không cần thiết kéo theo các class khác tránh dư thừa\n",
    "\n",
    "class Employee:\n",
    "    def __init__(self, name, age, pay, bonus):\n",
    "        self.name = name\n",
    "        self.age = age\n",
    "        self.salary= Salary(pay, bonus) #Khai báo trục tiếp Salary trong Employee\n",
    "    def total(self):\n",
    "        return self.salary.computeAnnualSalary()\n",
    "class Salary:\n",
    "    def __init__(self, pay, bonus):\n",
    "        self.pay = pay\n",
    "        self.bonus = bonus\n",
    "    def computeAnnualSalary(self):\n",
    "        return (self.pay * 12) + self.bonus\n",
    "e1 = Employee(\"John\", 25, 10000, 1500)\n",
    "print(e1.total())\n"
   ]
  },
  {
   "cell_type": "markdown",
   "metadata": {},
   "source": [
    "Function: nằm ngoài class  \n",
    "Method(thuộc tính): nằm trong class"
   ]
  },
  {
   "cell_type": "markdown",
   "metadata": {},
   "source": [
    "<b>2.1.2. Inheritance(Kế thừa)</b>  \n",
    "- refactory : cải tiến, tinh chỉnh lại code dần dần  \n",
    "\n",
    "\n",
    "<i>Kế thừa là cơ chế cho phép kế thừa những thuộc tính và phương thức của lớp trước đó đã có</i>  \n",
    "+Super Class: lớp cha ( base class or parent class)  \n",
    "+Subclass: lớp con (Derived class, extened class or child class)  \n",
    "![example inheritance](imag/inheritance.png)  \n",
    "\n",
    "Ở lớp cha khai báo biến hay thuộc tính phải ở dạng # protected  \n",
    "- <b>Overloading(Nạp chồng phương thức)</b>\n",
    "- <b>Overriding(Ghi đè phương thức)</b>: cải tiến điều chỉnh các phương thức (vd: class con manager tinhLuong() có + bonus khác với tinhLuong() ở class cha)  \n",
    "-> Nên tối ưu hóa bằng cách vẽ ra Class diagram trước\n"
   ]
  },
  {
   "cell_type": "code",
   "execution_count": 8,
   "metadata": {
    "vscode": {
     "languageId": "ruby"
    }
   },
   "outputs": [
    {
     "name": "stdout",
     "output_type": "stream",
     "text": [
      "name: Tom\n",
      "color: black\n"
     ]
    }
   ],
   "source": [
    "class animal:\n",
    "    def __init__(self, name):\n",
    "        self.__name = name\n",
    "    def setName(self, name):\n",
    "        self.__name = name\n",
    "    def describe(self):\n",
    "        print(f'name: {self.__name}')\n",
    "class cat(animal):\n",
    "    def __init__(self, name, color):\n",
    "        super().__init__(name)\n",
    "        self.__color = color\n",
    "    def describe(self):\n",
    "        super().describe()\n",
    "        print(f'color: {self.__color}')\n",
    "c = cat('Tom', 'black')\n",
    "c.describe()\n"
   ]
  },
  {
   "cell_type": "code",
   "execution_count": 11,
   "metadata": {
    "vscode": {
     "languageId": "ruby"
    }
   },
   "outputs": [
    {
     "name": "stdout",
     "output_type": "stream",
     "text": [
      "300\n",
      "1300\n"
     ]
    }
   ],
   "source": [
    "class Employee:\n",
    "    def __init__(self, name, hours):\n",
    "        self.__name = name\n",
    "        self.__hours = hours\n",
    "    def total(self):\n",
    "        return self.__hours * 12\n",
    "class Manager(Employee):\n",
    "    def __init__(self, name, hours, bonus):\n",
    "        super().__init__(name, hours) # kế thừa từ Employee\n",
    "        self.__bonus = bonus\n",
    "    def total(self):\n",
    "        return super().total() + self.__bonus #Gọi hàm total của Employee phải dùng super nếu dùng self sẽ tạo thành đệ quy\n",
    "e1 = Employee(\"John\", 25)\n",
    "print(e1.total())\n",
    "m1 = Manager(\"Tom\", 25, 1000)\n",
    "print(m1.total())"
   ]
  },
  {
   "cell_type": "markdown",
   "metadata": {},
   "source": [
    "<b>@abstractmethod</b>: Lớp trừa tượng  \n",
    "Khi khai báo ở lớp cha thì lớp con sẽ phải thực hiện những phương thức trừu tượng này\n"
   ]
  },
  {
   "cell_type": "code",
   "execution_count": 13,
   "metadata": {
    "vscode": {
     "languageId": "ruby"
    }
   },
   "outputs": [
    {
     "name": "stdout",
     "output_type": "stream",
     "text": [
      "314.0\n",
      "200\n"
     ]
    }
   ],
   "source": [
    "#Abstract class -> class trừu tượng không thể khởi tạo đối tượng từ nó\n",
    "from abc import ABC, abstractmethod\n",
    "class shape(ABC):\n",
    "    @abstractmethod\n",
    "    def area(self):\n",
    "        pass\n",
    "\n",
    "class cirle(shape):\n",
    "    def __init__(self, r):\n",
    "        self.__r = r\n",
    "    def area(self):\n",
    "        return 3.14 * self.__r * self.__r\n",
    "        \n",
    "class rectangle(shape):\n",
    "    def __init__(self, a, b):\n",
    "        self.__a = a\n",
    "        self.__b = b\n",
    "    def area(self):\n",
    "        return self.__a * self.__b\n",
    "c = cirle(10)\n",
    "print(c.area())\n",
    "r = rectangle(10, 20)\n",
    "print(r.area())"
   ]
  },
  {
   "cell_type": "code",
   "execution_count": 7,
   "metadata": {
    "vscode": {
     "languageId": "ruby"
    }
   },
   "outputs": [
    {
     "name": "stdout",
     "output_type": "stream",
     "text": [
      "ID:  121\n",
      "Name:  Jhon\n"
     ]
    }
   ],
   "source": [
    "class studen:\n",
    "    #protected data members\n",
    "    _id = None\n",
    "    _name = None\n",
    "\n",
    "    #constructor\n",
    "    def __init__(self,id,name):\n",
    "        self._id = id\n",
    "        self._name = name\n",
    "\n",
    "    #protected member function\n",
    "    def _display(self):\n",
    "        print(\"ID: \",self._id)\n",
    "        print(\"Name: \",self._name)\n",
    "\n",
    "#derived class\n",
    "class test(studen):\n",
    "    #constructor\n",
    "    def __init__(self,id,name,age):\n",
    "        self._age = age\n",
    "        #calling the base class constructor\n",
    "        studen.__init__(self,id,name)\n",
    "\n",
    "    #public member function\n",
    "    def show(self):\n",
    "        self._display()#phương thức protected của lớp cha\n",
    "\n",
    "#creating objects of the derived class\n",
    "obj = test(121, \"Jhon\",12)\n",
    "obj.show()\n",
    "\n",
    "#creating objects of the base class\n",
    "obj1 = studen(123, \"Tom\")"
   ]
  },
  {
   "cell_type": "markdown",
   "metadata": {},
   "source": [
    "- <b>Overload</b>  \n",
    "#### 3. Module và package  \n",
    "from <module_name> import <name(s)>"
   ]
  },
  {
   "cell_type": "markdown",
   "metadata": {},
   "source": [
    "<b>Polymorphism(Tính đa hình)</b>  \n",
    "1. Duck Typing: Không quan tâm dữ liệu đầu vào, chỉ cần quan tâm tham số truyền vào có hỗ trợ phương thức"
   ]
  }
 ],
 "metadata": {
  "kernelspec": {
   "display_name": "Python 3",
   "language": "python",
   "name": "python3"
  },
  "language_info": {
   "codemirror_mode": {
    "name": "ipython",
    "version": 3
   },
   "file_extension": ".py",
   "mimetype": "text/x-python",
   "name": "python",
   "nbconvert_exporter": "python",
   "pygments_lexer": "ipython3",
   "version": "3.12.3"
  }
 },
 "nbformat": 4,
 "nbformat_minor": 2
}
