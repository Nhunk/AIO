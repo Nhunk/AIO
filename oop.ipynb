{
 "cells": [
  {
   "cell_type": "markdown",
   "metadata": {},
   "source": [
    "- Lập trình thủ tục/cấu trúc (Thông thường): nhận yêu cầu -> lập trình\n",
    "\n",
    "#####Lập trình hướng đối tượng - OOP:\n"
   ]
  },
  {
   "cell_type": "code",
   "execution_count": null,
   "metadata": {},
   "outputs": [],
   "source": []
  }
 ],
 "metadata": {
  "language_info": {
   "name": "python"
  }
 },
 "nbformat": 4,
 "nbformat_minor": 2
}
